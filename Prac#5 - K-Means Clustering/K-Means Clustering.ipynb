{
 "cells": [
  {
   "metadata": {},
   "cell_type": "markdown",
   "source": "# Реалізація кластеризації методом k-середніх",
   "id": "671c04f8675ae83c"
  },
  {
   "metadata": {},
   "cell_type": "markdown",
   "source": "## Імпорт бібліотек та ознайомлення з набором даних",
   "id": "aaad4a21c5b5582"
  },
  {
   "cell_type": "code",
   "id": "initial_id",
   "metadata": {
    "collapsed": true,
    "ExecuteTime": {
     "end_time": "2025-05-07T19:51:08.891116Z",
     "start_time": "2025-05-07T19:51:08.306233Z"
    }
   },
   "source": [
    "from sklearn import datasets\n",
    "import pandas as pd\n",
    "import numpy as np\n",
    "\n",
    "iris = datasets.load_iris()\n",
    "iris_df = pd.DataFrame(data=iris.data, columns=iris.feature_names)\n",
    "iris_df"
   ],
   "outputs": [
    {
     "data": {
      "text/plain": [
       "     sepal length (cm)  sepal width (cm)  petal length (cm)  petal width (cm)\n",
       "0                  5.1               3.5                1.4               0.2\n",
       "1                  4.9               3.0                1.4               0.2\n",
       "2                  4.7               3.2                1.3               0.2\n",
       "3                  4.6               3.1                1.5               0.2\n",
       "4                  5.0               3.6                1.4               0.2\n",
       "..                 ...               ...                ...               ...\n",
       "145                6.7               3.0                5.2               2.3\n",
       "146                6.3               2.5                5.0               1.9\n",
       "147                6.5               3.0                5.2               2.0\n",
       "148                6.2               3.4                5.4               2.3\n",
       "149                5.9               3.0                5.1               1.8\n",
       "\n",
       "[150 rows x 4 columns]"
      ],
      "text/html": [
       "<div>\n",
       "<style scoped>\n",
       "    .dataframe tbody tr th:only-of-type {\n",
       "        vertical-align: middle;\n",
       "    }\n",
       "\n",
       "    .dataframe tbody tr th {\n",
       "        vertical-align: top;\n",
       "    }\n",
       "\n",
       "    .dataframe thead th {\n",
       "        text-align: right;\n",
       "    }\n",
       "</style>\n",
       "<table border=\"1\" class=\"dataframe\">\n",
       "  <thead>\n",
       "    <tr style=\"text-align: right;\">\n",
       "      <th></th>\n",
       "      <th>sepal length (cm)</th>\n",
       "      <th>sepal width (cm)</th>\n",
       "      <th>petal length (cm)</th>\n",
       "      <th>petal width (cm)</th>\n",
       "    </tr>\n",
       "  </thead>\n",
       "  <tbody>\n",
       "    <tr>\n",
       "      <th>0</th>\n",
       "      <td>5.1</td>\n",
       "      <td>3.5</td>\n",
       "      <td>1.4</td>\n",
       "      <td>0.2</td>\n",
       "    </tr>\n",
       "    <tr>\n",
       "      <th>1</th>\n",
       "      <td>4.9</td>\n",
       "      <td>3.0</td>\n",
       "      <td>1.4</td>\n",
       "      <td>0.2</td>\n",
       "    </tr>\n",
       "    <tr>\n",
       "      <th>2</th>\n",
       "      <td>4.7</td>\n",
       "      <td>3.2</td>\n",
       "      <td>1.3</td>\n",
       "      <td>0.2</td>\n",
       "    </tr>\n",
       "    <tr>\n",
       "      <th>3</th>\n",
       "      <td>4.6</td>\n",
       "      <td>3.1</td>\n",
       "      <td>1.5</td>\n",
       "      <td>0.2</td>\n",
       "    </tr>\n",
       "    <tr>\n",
       "      <th>4</th>\n",
       "      <td>5.0</td>\n",
       "      <td>3.6</td>\n",
       "      <td>1.4</td>\n",
       "      <td>0.2</td>\n",
       "    </tr>\n",
       "    <tr>\n",
       "      <th>...</th>\n",
       "      <td>...</td>\n",
       "      <td>...</td>\n",
       "      <td>...</td>\n",
       "      <td>...</td>\n",
       "    </tr>\n",
       "    <tr>\n",
       "      <th>145</th>\n",
       "      <td>6.7</td>\n",
       "      <td>3.0</td>\n",
       "      <td>5.2</td>\n",
       "      <td>2.3</td>\n",
       "    </tr>\n",
       "    <tr>\n",
       "      <th>146</th>\n",
       "      <td>6.3</td>\n",
       "      <td>2.5</td>\n",
       "      <td>5.0</td>\n",
       "      <td>1.9</td>\n",
       "    </tr>\n",
       "    <tr>\n",
       "      <th>147</th>\n",
       "      <td>6.5</td>\n",
       "      <td>3.0</td>\n",
       "      <td>5.2</td>\n",
       "      <td>2.0</td>\n",
       "    </tr>\n",
       "    <tr>\n",
       "      <th>148</th>\n",
       "      <td>6.2</td>\n",
       "      <td>3.4</td>\n",
       "      <td>5.4</td>\n",
       "      <td>2.3</td>\n",
       "    </tr>\n",
       "    <tr>\n",
       "      <th>149</th>\n",
       "      <td>5.9</td>\n",
       "      <td>3.0</td>\n",
       "      <td>5.1</td>\n",
       "      <td>1.8</td>\n",
       "    </tr>\n",
       "  </tbody>\n",
       "</table>\n",
       "<p>150 rows × 4 columns</p>\n",
       "</div>"
      ]
     },
     "execution_count": 1,
     "metadata": {},
     "output_type": "execute_result"
    }
   ],
   "execution_count": 1
  },
  {
   "metadata": {
    "ExecuteTime": {
     "end_time": "2025-05-07T19:51:08.921Z",
     "start_time": "2025-05-07T19:51:08.917585Z"
    }
   },
   "cell_type": "code",
   "source": "features = [\"sepal length (cm)\", \"sepal width (cm)\", \"petal length (cm)\", \"petal width (cm)\"]",
   "id": "c370a5e8d76c3132",
   "outputs": [],
   "execution_count": 2
  },
  {
   "metadata": {
    "ExecuteTime": {
     "end_time": "2025-05-07T19:51:08.959796Z",
     "start_time": "2025-05-07T19:51:08.954873Z"
    }
   },
   "cell_type": "code",
   "source": "iris_df = iris_df.dropna(subset=features)",
   "id": "31ee4d621f6673ff",
   "outputs": [],
   "execution_count": 3
  },
  {
   "metadata": {},
   "cell_type": "markdown",
   "source": [
    "Кроки для реалізації кластеризації методом k-середніх:\n",
    "1. Масштабування даних\n",
    "2. Ініціалізація випадкових центроїд\n",
    "3. Позначення кожної точки даних\n",
    "4. Оновлення центроїдів\n",
    "5. Повторення кроків 3 і 4, поки центроїди перестануть змінюватися"
   ],
   "id": "112579c404837d47"
  },
  {
   "metadata": {},
   "cell_type": "markdown",
   "source": "## 1. Масштабування даних",
   "id": "2cf735b02792c289"
  },
  {
   "metadata": {
    "ExecuteTime": {
     "end_time": "2025-05-07T19:51:08.992974Z",
     "start_time": "2025-05-07T19:51:08.987705Z"
    }
   },
   "cell_type": "code",
   "source": "iris_df = (iris_df - iris_df.min()) / (iris_df.max() - iris_df.min()) * 9 + 1",
   "id": "442c90e266fcc6ef",
   "outputs": [],
   "execution_count": 4
  },
  {
   "metadata": {
    "ExecuteTime": {
     "end_time": "2025-05-07T19:51:09.183870Z",
     "start_time": "2025-05-07T19:51:09.172857Z"
    }
   },
   "cell_type": "code",
   "source": "iris_df.describe()",
   "id": "14007d2bc2e520ed",
   "outputs": [
    {
     "data": {
      "text/plain": [
       "       sepal length (cm)  sepal width (cm)  petal length (cm)  \\\n",
       "count         150.000000        150.000000         150.000000   \n",
       "mean            4.858333          4.965000           5.207119   \n",
       "std             2.070165          1.634499           2.692828   \n",
       "min             1.000000          1.000000           1.000000   \n",
       "25%             3.000000          4.000000           1.915254   \n",
       "50%             4.750000          4.750000           6.110169   \n",
       "75%             6.250000          5.875000           7.254237   \n",
       "max            10.000000         10.000000          10.000000   \n",
       "\n",
       "       petal width (cm)  \n",
       "count        150.000000  \n",
       "mean           5.122500  \n",
       "std            2.858391  \n",
       "min            1.000000  \n",
       "25%            1.750000  \n",
       "50%            5.500000  \n",
       "75%            7.375000  \n",
       "max           10.000000  "
      ],
      "text/html": [
       "<div>\n",
       "<style scoped>\n",
       "    .dataframe tbody tr th:only-of-type {\n",
       "        vertical-align: middle;\n",
       "    }\n",
       "\n",
       "    .dataframe tbody tr th {\n",
       "        vertical-align: top;\n",
       "    }\n",
       "\n",
       "    .dataframe thead th {\n",
       "        text-align: right;\n",
       "    }\n",
       "</style>\n",
       "<table border=\"1\" class=\"dataframe\">\n",
       "  <thead>\n",
       "    <tr style=\"text-align: right;\">\n",
       "      <th></th>\n",
       "      <th>sepal length (cm)</th>\n",
       "      <th>sepal width (cm)</th>\n",
       "      <th>petal length (cm)</th>\n",
       "      <th>petal width (cm)</th>\n",
       "    </tr>\n",
       "  </thead>\n",
       "  <tbody>\n",
       "    <tr>\n",
       "      <th>count</th>\n",
       "      <td>150.000000</td>\n",
       "      <td>150.000000</td>\n",
       "      <td>150.000000</td>\n",
       "      <td>150.000000</td>\n",
       "    </tr>\n",
       "    <tr>\n",
       "      <th>mean</th>\n",
       "      <td>4.858333</td>\n",
       "      <td>4.965000</td>\n",
       "      <td>5.207119</td>\n",
       "      <td>5.122500</td>\n",
       "    </tr>\n",
       "    <tr>\n",
       "      <th>std</th>\n",
       "      <td>2.070165</td>\n",
       "      <td>1.634499</td>\n",
       "      <td>2.692828</td>\n",
       "      <td>2.858391</td>\n",
       "    </tr>\n",
       "    <tr>\n",
       "      <th>min</th>\n",
       "      <td>1.000000</td>\n",
       "      <td>1.000000</td>\n",
       "      <td>1.000000</td>\n",
       "      <td>1.000000</td>\n",
       "    </tr>\n",
       "    <tr>\n",
       "      <th>25%</th>\n",
       "      <td>3.000000</td>\n",
       "      <td>4.000000</td>\n",
       "      <td>1.915254</td>\n",
       "      <td>1.750000</td>\n",
       "    </tr>\n",
       "    <tr>\n",
       "      <th>50%</th>\n",
       "      <td>4.750000</td>\n",
       "      <td>4.750000</td>\n",
       "      <td>6.110169</td>\n",
       "      <td>5.500000</td>\n",
       "    </tr>\n",
       "    <tr>\n",
       "      <th>75%</th>\n",
       "      <td>6.250000</td>\n",
       "      <td>5.875000</td>\n",
       "      <td>7.254237</td>\n",
       "      <td>7.375000</td>\n",
       "    </tr>\n",
       "    <tr>\n",
       "      <th>max</th>\n",
       "      <td>10.000000</td>\n",
       "      <td>10.000000</td>\n",
       "      <td>10.000000</td>\n",
       "      <td>10.000000</td>\n",
       "    </tr>\n",
       "  </tbody>\n",
       "</table>\n",
       "</div>"
      ]
     },
     "execution_count": 5,
     "metadata": {},
     "output_type": "execute_result"
    }
   ],
   "execution_count": 5
  },
  {
   "metadata": {
    "ExecuteTime": {
     "end_time": "2025-05-07T19:51:09.216134Z",
     "start_time": "2025-05-07T19:51:09.209124Z"
    }
   },
   "cell_type": "code",
   "source": "iris_df.head()",
   "id": "ac61396012fb2cbf",
   "outputs": [
    {
     "data": {
      "text/plain": [
       "   sepal length (cm)  sepal width (cm)  petal length (cm)  petal width (cm)\n",
       "0               3.00             6.625           1.610169             1.375\n",
       "1               2.50             4.750           1.610169             1.375\n",
       "2               2.00             5.500           1.457627             1.375\n",
       "3               1.75             5.125           1.762712             1.375\n",
       "4               2.75             7.000           1.610169             1.375"
      ],
      "text/html": [
       "<div>\n",
       "<style scoped>\n",
       "    .dataframe tbody tr th:only-of-type {\n",
       "        vertical-align: middle;\n",
       "    }\n",
       "\n",
       "    .dataframe tbody tr th {\n",
       "        vertical-align: top;\n",
       "    }\n",
       "\n",
       "    .dataframe thead th {\n",
       "        text-align: right;\n",
       "    }\n",
       "</style>\n",
       "<table border=\"1\" class=\"dataframe\">\n",
       "  <thead>\n",
       "    <tr style=\"text-align: right;\">\n",
       "      <th></th>\n",
       "      <th>sepal length (cm)</th>\n",
       "      <th>sepal width (cm)</th>\n",
       "      <th>petal length (cm)</th>\n",
       "      <th>petal width (cm)</th>\n",
       "    </tr>\n",
       "  </thead>\n",
       "  <tbody>\n",
       "    <tr>\n",
       "      <th>0</th>\n",
       "      <td>3.00</td>\n",
       "      <td>6.625</td>\n",
       "      <td>1.610169</td>\n",
       "      <td>1.375</td>\n",
       "    </tr>\n",
       "    <tr>\n",
       "      <th>1</th>\n",
       "      <td>2.50</td>\n",
       "      <td>4.750</td>\n",
       "      <td>1.610169</td>\n",
       "      <td>1.375</td>\n",
       "    </tr>\n",
       "    <tr>\n",
       "      <th>2</th>\n",
       "      <td>2.00</td>\n",
       "      <td>5.500</td>\n",
       "      <td>1.457627</td>\n",
       "      <td>1.375</td>\n",
       "    </tr>\n",
       "    <tr>\n",
       "      <th>3</th>\n",
       "      <td>1.75</td>\n",
       "      <td>5.125</td>\n",
       "      <td>1.762712</td>\n",
       "      <td>1.375</td>\n",
       "    </tr>\n",
       "    <tr>\n",
       "      <th>4</th>\n",
       "      <td>2.75</td>\n",
       "      <td>7.000</td>\n",
       "      <td>1.610169</td>\n",
       "      <td>1.375</td>\n",
       "    </tr>\n",
       "  </tbody>\n",
       "</table>\n",
       "</div>"
      ]
     },
     "execution_count": 6,
     "metadata": {},
     "output_type": "execute_result"
    }
   ],
   "execution_count": 6
  },
  {
   "metadata": {},
   "cell_type": "markdown",
   "source": "## 2. Ініціалізація випадкових центроїд",
   "id": "5efd871f5f652921"
  },
  {
   "metadata": {
    "ExecuteTime": {
     "end_time": "2025-05-07T19:51:09.252438Z",
     "start_time": "2025-05-07T19:51:09.248457Z"
    }
   },
   "cell_type": "code",
   "source": [
    "def random_centroids(data, k):\n",
    "    centroids = []\n",
    "    for i in range(k):\n",
    "        centroid = data.apply(lambda x: float(x.sample().iloc[0]))\n",
    "        centroids.append(centroid)\n",
    "    return pd.concat(centroids, axis=1)"
   ],
   "id": "e7865b1532e2bd11",
   "outputs": [],
   "execution_count": 7
  },
  {
   "metadata": {
    "ExecuteTime": {
     "end_time": "2025-05-07T19:51:09.366323Z",
     "start_time": "2025-05-07T19:51:09.356825Z"
    }
   },
   "cell_type": "code",
   "source": [
    "centroids = random_centroids(iris_df, 4)\n",
    "centroids"
   ],
   "id": "54cdac79177ae762",
   "outputs": [
    {
     "data": {
      "text/plain": [
       "                          0         1         2         3\n",
       "sepal length (cm)  1.250000  4.750000  1.500000  4.250000\n",
       "sepal width (cm)   4.750000  4.375000  5.125000  3.250000\n",
       "petal length (cm)  4.508475  7.254237  8.779661  1.457627\n",
       "petal width (cm)   5.125000  5.500000  9.250000  1.375000"
      ],
      "text/html": [
       "<div>\n",
       "<style scoped>\n",
       "    .dataframe tbody tr th:only-of-type {\n",
       "        vertical-align: middle;\n",
       "    }\n",
       "\n",
       "    .dataframe tbody tr th {\n",
       "        vertical-align: top;\n",
       "    }\n",
       "\n",
       "    .dataframe thead th {\n",
       "        text-align: right;\n",
       "    }\n",
       "</style>\n",
       "<table border=\"1\" class=\"dataframe\">\n",
       "  <thead>\n",
       "    <tr style=\"text-align: right;\">\n",
       "      <th></th>\n",
       "      <th>0</th>\n",
       "      <th>1</th>\n",
       "      <th>2</th>\n",
       "      <th>3</th>\n",
       "    </tr>\n",
       "  </thead>\n",
       "  <tbody>\n",
       "    <tr>\n",
       "      <th>sepal length (cm)</th>\n",
       "      <td>1.250000</td>\n",
       "      <td>4.750000</td>\n",
       "      <td>1.500000</td>\n",
       "      <td>4.250000</td>\n",
       "    </tr>\n",
       "    <tr>\n",
       "      <th>sepal width (cm)</th>\n",
       "      <td>4.750000</td>\n",
       "      <td>4.375000</td>\n",
       "      <td>5.125000</td>\n",
       "      <td>3.250000</td>\n",
       "    </tr>\n",
       "    <tr>\n",
       "      <th>petal length (cm)</th>\n",
       "      <td>4.508475</td>\n",
       "      <td>7.254237</td>\n",
       "      <td>8.779661</td>\n",
       "      <td>1.457627</td>\n",
       "    </tr>\n",
       "    <tr>\n",
       "      <th>petal width (cm)</th>\n",
       "      <td>5.125000</td>\n",
       "      <td>5.500000</td>\n",
       "      <td>9.250000</td>\n",
       "      <td>1.375000</td>\n",
       "    </tr>\n",
       "  </tbody>\n",
       "</table>\n",
       "</div>"
      ]
     },
     "execution_count": 8,
     "metadata": {},
     "output_type": "execute_result"
    }
   ],
   "execution_count": 8
  },
  {
   "metadata": {},
   "cell_type": "markdown",
   "source": "## 3. Позначення кожної точки даних",
   "id": "f5cd9920c2548aff"
  },
  {
   "metadata": {
    "ExecuteTime": {
     "end_time": "2025-05-07T19:51:09.434519Z",
     "start_time": "2025-05-07T19:51:09.431511Z"
    }
   },
   "cell_type": "code",
   "source": [
    "def get_labels(data, centroids):\n",
    "    distances = centroids.apply(lambda x: np.sqrt(((data - x) ** 2).sum(axis=1)))\n",
    "    return distances.idxmin(axis=1)"
   ],
   "id": "2e9c2ef48c513d34",
   "outputs": [],
   "execution_count": 9
  },
  {
   "metadata": {
    "ExecuteTime": {
     "end_time": "2025-05-07T19:51:09.486885Z",
     "start_time": "2025-05-07T19:51:09.479872Z"
    }
   },
   "cell_type": "code",
   "source": [
    "labels = get_labels(iris_df, centroids)\n",
    "labels.value_counts()"
   ],
   "id": "aa2c639cd5d80def",
   "outputs": [
    {
     "data": {
      "text/plain": [
       "1    93\n",
       "3    50\n",
       "0     4\n",
       "2     3\n",
       "Name: count, dtype: int64"
      ]
     },
     "execution_count": 10,
     "metadata": {},
     "output_type": "execute_result"
    }
   ],
   "execution_count": 10
  },
  {
   "metadata": {},
   "cell_type": "markdown",
   "source": "## 4. Оновлення центроїд",
   "id": "eb2f7ed3a6106cef"
  },
  {
   "metadata": {
    "ExecuteTime": {
     "end_time": "2025-05-07T19:51:09.536919Z",
     "start_time": "2025-05-07T19:51:09.533097Z"
    }
   },
   "cell_type": "code",
   "source": [
    "def new_centroids(data, labels, k):\n",
    "    return data.groupby(labels).apply(lambda x: np.exp(np.log(x).mean())).T"
   ],
   "id": "764bd70dadc3b84b",
   "outputs": [],
   "execution_count": 11
  },
  {
   "metadata": {},
   "cell_type": "markdown",
   "source": "## 5. Повторення кроків 3 і 4, поки центроїди перестануть змінюватися",
   "id": "bf00011653736787"
  },
  {
   "metadata": {},
   "cell_type": "markdown",
   "source": "### Імпорт необхідних бібліотек та функція для відображення кластерів",
   "id": "b10bb8edff8b2273"
  },
  {
   "metadata": {
    "ExecuteTime": {
     "end_time": "2025-05-07T19:51:09.923031Z",
     "start_time": "2025-05-07T19:51:09.589823Z"
    }
   },
   "cell_type": "code",
   "source": [
    "from sklearn.decomposition import PCA\n",
    "import matplotlib.pyplot as plt\n",
    "from IPython.display import clear_output"
   ],
   "id": "636b4976b777e140",
   "outputs": [],
   "execution_count": 12
  },
  {
   "metadata": {
    "ExecuteTime": {
     "end_time": "2025-05-07T19:51:09.946433Z",
     "start_time": "2025-05-07T19:51:09.942524Z"
    }
   },
   "cell_type": "code",
   "source": [
    "def plot_clusters(data, labels, centroids, iteration):\n",
    "    pca = PCA(n_components=2)\n",
    "    data_2d = pca.fit_transform(data)\n",
    "    centroids_2d = pca.transform(centroids.T)\n",
    "\n",
    "    clear_output()\n",
    "    plt.title(f'Iteration {iteration}')\n",
    "    plt.scatter(x=data_2d[:, 0], y=data_2d[:, 1], c=labels)\n",
    "    plt.scatter(x=centroids_2d[:, 0], y=centroids_2d[:, 1], c='r')\n",
    "    plt.show()"
   ],
   "id": "8c45d6546b65055c",
   "outputs": [],
   "execution_count": 13
  },
  {
   "metadata": {},
   "cell_type": "markdown",
   "source": "### Реалізація кроку №5",
   "id": "8ef6aa61a5d05154"
  },
  {
   "metadata": {},
   "cell_type": "code",
   "source": [
    "max_iterations = 100\n",
    "k = 3\n",
    "\n",
    "centroids = random_centroids(iris_df, k)\n",
    "old_centroids = pd.DataFrame()\n",
    "iteration = 1\n",
    "\n",
    "while iteration < max_iterations and not centroids.equals(old_centroids):\n",
    "    old_centroids = centroids\n",
    "\n",
    "    labels = get_labels(iris_df, centroids)\n",
    "    centroids = new_centroids(iris_df, labels, k)\n",
    "    plot_clusters(iris_df, labels, centroids, iteration)\n",
    "    iteration += 1"
   ],
   "id": "7e82df5773e32eca",
   "execution_count": 14,
   "outputs": [
    {
     "data": {
      "text/plain": [
       "<Figure size 640x480 with 1 Axes>"
      ],
      "image/png": "[encoded data removed]"
     },
     "metadata": {},
     "output_type": "display_data"
    }
   ]
  },
  {
   "metadata": {},
   "cell_type": "markdown",
   "source": "## Аналіз отриманих даних",
   "id": "9170c9f09d43f250"
  },
  {
   "metadata": {
    "ExecuteTime": {
     "end_time": "2025-05-07T19:51:10.489149Z",
     "start_time": "2025-05-07T19:51:10.482910Z"
    }
   },
   "cell_type": "code",
   "source": "centroids",
   "id": "638bb556e377f543",
   "outputs": [
    {
     "data": {
      "text/plain": [
       "                          0         1         2\n",
       "sepal length (cm)  6.653880  2.613660  4.406264\n",
       "sepal width (cm)   4.714525  6.181958  3.218262\n",
       "petal length (cm)  7.627264  1.683939  5.776541\n",
       "petal width (cm)   7.778481  1.503844  5.361460"
      ],
      "text/html": [
       "<div>\n",
       "<style scoped>\n",
       "    .dataframe tbody tr th:only-of-type {\n",
       "        vertical-align: middle;\n",
       "    }\n",
       "\n",
       "    .dataframe tbody tr th {\n",
       "        vertical-align: top;\n",
       "    }\n",
       "\n",
       "    .dataframe thead th {\n",
       "        text-align: right;\n",
       "    }\n",
       "</style>\n",
       "<table border=\"1\" class=\"dataframe\">\n",
       "  <thead>\n",
       "    <tr style=\"text-align: right;\">\n",
       "      <th></th>\n",
       "      <th>0</th>\n",
       "      <th>1</th>\n",
       "      <th>2</th>\n",
       "    </tr>\n",
       "  </thead>\n",
       "  <tbody>\n",
       "    <tr>\n",
       "      <th>sepal length (cm)</th>\n",
       "      <td>6.653880</td>\n",
       "      <td>2.613660</td>\n",
       "      <td>4.406264</td>\n",
       "    </tr>\n",
       "    <tr>\n",
       "      <th>sepal width (cm)</th>\n",
       "      <td>4.714525</td>\n",
       "      <td>6.181958</td>\n",
       "      <td>3.218262</td>\n",
       "    </tr>\n",
       "    <tr>\n",
       "      <th>petal length (cm)</th>\n",
       "      <td>7.627264</td>\n",
       "      <td>1.683939</td>\n",
       "      <td>5.776541</td>\n",
       "    </tr>\n",
       "    <tr>\n",
       "      <th>petal width (cm)</th>\n",
       "      <td>7.778481</td>\n",
       "      <td>1.503844</td>\n",
       "      <td>5.361460</td>\n",
       "    </tr>\n",
       "  </tbody>\n",
       "</table>\n",
       "</div>"
      ]
     },
     "execution_count": 15,
     "metadata": {},
     "output_type": "execute_result"
    }
   ],
   "execution_count": 15
  },
  {
   "metadata": {
    "ExecuteTime": {
     "end_time": "2025-05-07T19:51:10.527311Z",
     "start_time": "2025-05-07T19:51:10.523265Z"
    }
   },
   "cell_type": "code",
   "source": "labels.value_counts()",
   "id": "13ca1058c018d349",
   "outputs": [
    {
     "data": {
      "text/plain": [
       "0    61\n",
       "1    50\n",
       "2    39\n",
       "Name: count, dtype: int64"
      ]
     },
     "execution_count": 16,
     "metadata": {},
     "output_type": "execute_result"
    }
   ],
   "execution_count": 16
  },
  {
   "metadata": {
    "ExecuteTime": {
     "end_time": "2025-05-07T19:51:10.567605Z",
     "start_time": "2025-05-07T19:51:10.557128Z"
    }
   },
   "cell_type": "code",
   "source": [
    "# Справжні мітки та кластери\n",
    "iris_df['true_label'] = iris.target\n",
    "iris_df['cluster'] = labels.values\n",
    "\n",
    "# Матрицю відповідності\n",
    "ct = pd.crosstab(iris_df['true_label'], iris_df['cluster'])\n",
    "\n",
    "print(\"Матриця відповідності кластерів до справжніх класів:\")\n",
    "print(ct)\n",
    "\n",
    "# Словник відповідностей: який кластер найбільше відповідає якому класу\n",
    "mapping = ct.idxmax(axis=0).to_dict()\n",
    "\n",
    "print(\"\\nВідповідність кластерів до справжніх класів:\")\n",
    "for cluster, true_class in mapping.items():\n",
    "    print(f\"Кластер {cluster} ≈ Клас {true_class} ({iris.target_names[true_class]})\")"
   ],
   "id": "4b742d7c7b59116d",
   "outputs": [
    {
     "name": "stdout",
     "output_type": "stream",
     "text": [
      "Матриця відповідності кластерів до справжніх класів:\n",
      "cluster      0   1   2\n",
      "true_label            \n",
      "0            0  50   0\n",
      "1           14   0  36\n",
      "2           47   0   3\n",
      "\n",
      "Відповідність кластерів до справжніх класів:\n",
      "Кластер 0 ≈ Клас 2 (virginica)\n",
      "Кластер 1 ≈ Клас 0 (setosa)\n",
      "Кластер 2 ≈ Клас 1 (versicolor)\n"
     ]
    }
   ],
   "execution_count": 17
  },
  {
   "metadata": {
    "ExecuteTime": {
     "end_time": "2025-05-07T19:51:10.703023Z",
     "start_time": "2025-05-07T19:51:10.698010Z"
    }
   },
   "cell_type": "code",
   "source": [
    "from sklearn.metrics import accuracy_score\n",
    "\n",
    "# Список передбачених \"класів\" на основі кластера і відповідності\n",
    "predicted_labels = iris_df['cluster'].map(mapping)\n",
    "\n",
    "# Обчислення точності\n",
    "accuracy = accuracy_score(iris_df['true_label'], predicted_labels)\n",
    "print(f\"\\nТочність кластеризації: {accuracy:.2%}\")"
   ],
   "id": "ac05752ca99a5982",
   "outputs": [
    {
     "name": "stdout",
     "output_type": "stream",
     "text": [
      "\n",
      "Точність кластеризації: 88.67%\n"
     ]
    }
   ],
   "execution_count": 18
  },
  {
   "metadata": {},
   "cell_type": "markdown",
   "source": "# Висновки",
   "id": "bdff4bdeb63f0c0a"
  },
  {
   "metadata": {},
   "cell_type": "markdown",
   "source": "У цьому дослідженні було реалізовано алгоритм кластеризації методом k-середніх (k-means) з нуля на основі класичного набору даних Iris. Метод дозволив розбити дані на 3 кластери без використання реальних міток класів, що демонструє його здатність виявляти приховану структуру в даних.",
   "id": "25a538ca7ae13ba"
  },
  {
   "metadata": {},
   "cell_type": "markdown",
   "source": "## Принцип роботи методу k-середніх",
   "id": "e6cc785b3455ebdd"
  },
  {
   "metadata": {},
   "cell_type": "markdown",
   "source": [
    "Алгоритм k-середніх працює за наступною ідеєю:\n",
    "1. Вибирається кількість кластерів k (у нашому випадку — 3).\n",
    "2. Випадковим чином ініціалізуються k центроїдів.\n",
    "3. Кожна точка даних приписується до найближчого центроїда (за відстанню).\n",
    "4. Центроїди оновлюються — для кожного кластера обчислюється новий центр (середнє значення точок у кластері).\n",
    "5. Кроки 3–4 повторюються, поки центроїди не перестануть змінюватися або досягнуто максимальну кількість ітерацій.\n",
    "\n",
    "Цей метод є ітеративним і евристичним, що означає, що результат може залежати від початкових значень."
   ],
   "id": "7921dae4fa39ee76"
  },
  {
   "metadata": {},
   "cell_type": "markdown",
   "source": "## Для чого застосовується кластеризація методом k-середніх?",
   "id": "50b042bccf4856ee"
  },
  {
   "metadata": {},
   "cell_type": "markdown",
   "source": [
    "Метод k-середніх належить до неконтрольованого навчання, тобто працює без наявності відомих міток класів. Він використовується для:\n",
    "- Виявлення структури в даних (групування схожих об’єктів),\n",
    "- Попереднього аналізу даних,\n",
    "- Компресії даних (наприклад, зменшення кількості кольорів в зображенні),\n",
    "\n",
    "Як приклад використання на практиці, можна навести сегментацію клієнтів або товарів у бізнес-аналітиці."
   ],
   "id": "5abc4491fa415aee"
  },
  {
   "metadata": {},
   "cell_type": "markdown",
   "source": "## Аналіз результатів на даних Iris",
   "id": "d9043463453cd269"
  },
  {
   "metadata": {},
   "cell_type": "markdown",
   "source": [
    "- Алгоритм розділив дані на 3 кластери, що відповідає кількості реальних видів ірису.\n",
    "- Була побудована матриця відповідності кластерів до реальних класів, яка показала, що один з кластерів майже точно відповідає виду Iris-setosa, а інші два — частково перекриваються між versicolor та virginica.\n",
    "- Обчислена точність кластеризації склала трошки менше 90%, що є дуже хорошим результатом для методу без учителя."
   ],
   "id": "6c7097d7aeaa8c10"
  },
  {
   "metadata": {},
   "cell_type": "markdown",
   "source": "## Висновок",
   "id": "3a6f6efd364777ef"
  },
  {
   "metadata": {},
   "cell_type": "markdown",
   "source": "Метод k-середніх показав високу ефективність у кластеризації даних без попереднього навчання. Незважаючи на простоту, він дозволяє виявити приховану структуру в наборі даних і може бути корисним інструментом для первинної обробки в аналізі у реальних проєктах.",
   "id": "7021f3fbc6b6c864"
  }
 ],
 "metadata": {
  "kernelspec": {
   "display_name": "Python 3",
   "language": "python",
   "name": "python3"
  },
  "language_info": {
   "codemirror_mode": {
    "name": "ipython",
    "version": 2
   },
   "file_extension": ".py",
   "mimetype": "text/x-python",
   "name": "python",
   "nbconvert_exporter": "python",
   "pygments_lexer": "ipython2",
   "version": "2.7.6"
  }
 },
 "nbformat": 4,
 "nbformat_minor": 5
}
